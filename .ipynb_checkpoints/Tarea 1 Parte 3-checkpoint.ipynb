{
 "cells": [
  {
   "cell_type": "markdown",
   "metadata": {
    "id": "o_LwBzSZFjl2"
   },
   "source": [
    "<hr style=\"height:2px;border:none\"/>\n",
    "<h1 align='center'> <img src=\"http://www.exalumnos.usm.cl/wp-content/uploads/2015/06/Isotipo-Negro.gif\" title=\"Title text\" width=\"20%\" height=\"20%\" />\n",
    "\n",
    "INF-395 / 477 / 577 Tarea 1 Redes Neuronales Artificiales - 2020-1 </h1>\n",
    "\n",
    "<H3 align='center'> Integrantes: Sebastian Muñoz- Guillermo Meza </H3>\n",
    "<hr style=\"height:2px;border:none\"/>\n",
    "\n",
    "**Temas**  \n",
    "* Manipulaciones en tensorflow, keras, pandas y numpy\n",
    "* Redes Densas Feed Forward\n",
    "* Regularización y Dropout\n",
    "* Exploding & Vanishing Gradient\n",
    "* Skip Connections\n",
    "* Learn Rate Decay\n",
    "* Optimizadores\n",
    "* Redes Convolucionales\n",
    "* Image Data Augmentation\n",
    "* Interpretabilidad CNNs\n",
    "\n",
    "\n",
    "**Formalidades**  \n",
    "* Equipos de trabajo de 2 personas (*Ambos estudiantes deben estar preparados para presentar la tarea el día de la entrega*)\n",
    "* El entregable debe ser un _Jupyter Notebook_ incluyendo los códigos utilizados, los resultados, los gráficos realizados y comentarios. Debe seguir una estructura similar a un informe (se debe introducir los problemas a trabajar, presentar los resultados y discutirlos). Si lo prefiere puede entregar un _Jupyter Notebook_ por pregunta o uno para toda la tarea, con tal de que todos los entregables estén bien identificados y se encuentren en el mismo repositorio de _Github_.\n",
    "* Se debe preparar una presentación del trabajo realizado y sus hallazgos. El presentador será elegido aleatoriamente y deberá apoyarse en el _Jupyter Notebook_ que entregarán. \n",
    "* Formato de entrega: envı́o de link del repositorio en _Github_ ( en caso de ser repositorio privado, invitar como colaborador al usuario de github \"Aerlio\") al correo electrónico del ayudante (*<tomas.ochoa.14@sansano.usm.cl>*), en copia al profesor (*<cvalle@inf.utfsm.cl>*). Especificar el siguiente asunto: [INF395/477/577-2020 Tarea1]\n",
    "* Fecha de entrega y presentaciones: 13 de Noviembre. Hora límite de entrega: 23:00. Cualquier _commit_ luego de la hora límite no será evaluado. Se realizará descuento por atrasos en envío del mail. \n",
    "\n",
    "<hr style=\"height:2px;border:none\"/>\n",
    "\n",
    "La tarea se divide en tres partes:\n",
    "\n",
    "[1.](#primero) Conceptos básicos de redes neuronales  <br>\n",
    "[2.](#segundo) Reconocimiento de lenguaje de señas <br>\n",
    "[3.](#tercero) Interpretabilidad de CNNs, transfer learning, y skip connections <br>\n",
    "\n",
    "La tarea tiene ejemplos de códigos con los cuales pueden guiarse en gran parte, sin embargo solo son guías y pueden ser creativos al momento de resolver la tarea. Soluciones creativas o elegantes serán valoradas. También en algunas ocaciones se hacen elecciones arbitrarias, ustedes pueden realizar otras elecciones con tal de que haya una pequeña justificación de por qué su elección es mejor o equivalente.\n",
    "Recuerden intercalar su código con comentarios y con celdas _Markdown_ con los comentarios de la pregunta y con cualquier analisis, fórmula o explicación que les parezca relevante para justificar sus procedimientos. \n",
    "Noten que en general cuando se les pide elegir algo o proponer algo no se evaluará mucho la elección en si, en cambio la argumentación detrás de la elección será lo más ponderado.\n",
    "\n",
    "**Es ÁLTAMENTE recomendado realizar esta tarea en _Colab_ de Google (https://colab.research.google.com/notebooks/intro.ipynb#recent=true), con el fin de no depender del rendimiento de su computador personal al momento de entrenar redes neuronales y poder compartir de forma fácil sus avances con su compañer@ de trabajo.** Si bien conlleva sus pros y contras utilizar _Colab_ , existirá una curva de aprendizaje personal que lo ayudará a sacar el mayor provecho a esta herramienta, por ejemplo aprendiendo a guardar los avances realizados, evitando tener que ejecutar todo el código cada vez que se abra _Colab_ . *Tip: Una vez abierto un notebook en _Colab_ ir a **entorno de ejecución**->**Cambiar tipo de entorno de ejecución**, y seleccionár TPU como acelerador por hardware para redes feedforward y GPU para redes convolucionales.*."
   ]
  },
  {
   "cell_type": "markdown",
   "metadata": {
    "id": "pn-VQK6qwifz"
   },
   "source": [
    "# 3. Interpretabilidad de CNNs, transfer learning y skip connections\n",
    "\n",
    "Los modelos de aprendizaje automático, especialmente los modelos de aprendizaje profundo, a menudo se consideran una caja negra y difíciles de interpretar. Bueno, esta afirmación no es completamente cierta ni es completamente falsa. Es un hecho que depurar un modelo de aprendizaje profundo es mucho más difícil que otros modelos de aprendizaje automático, pero hay formas en las que puede obtener información sobre su modelo y, hasta cierto punto, puede ver lo que está sucediendo. Dado que trabajaremos con archivos .jpg mucho código vendrá dado, se darán ejemplos en el camino para que se familiarice con las herramientas sin la necesidad de entenderlas en su totalidad. **¡¡¡¡¡¡Evite trabajar de más y trabaje esta pregunta en _Colab_!!!!!** La gran mayoría del código de pre-procesamiento a utilizar, y ciertos tópicos ha cubrir, han sido sacados de https://www.kaggle.com/aakashnain/what-does-a-cnn-see/notebook , puede ocupar el código para guiarse, sin embargo se ha bajado el código para trabajar con tensorflow directamente. Aprecie que en los datasets de Kaggle, hay una sección notebooks, donde distintos usuarios suben distintas aplicaciones que le han dado al dataset en cuestión.  \n",
    "\n",
    "\n",
    "<h1 align='center'> <img src=\"https://miro.medium.com/max/831/1*7Ip2_SeOz_BoruHEytEMlQ.png\" width=\"60%\" height=\"60%\" /> </h1> \n",
    "<h1 align='center'></h1>\n",
    "\n",
    "Para esto analizaremos el problema de clasificación de imágenes, en este caso clasificaremos 10 especies de monos, su descripción se puede encontrar en: https://www.kaggle.com/slothkong/10-monkey-species (No es necesario descargar el dataset trabajando en _Colab_). Este dataset será el más pesado que utilizaremos en esta tarea. **Recordar usar entorno de ejecución con acelerador GPU**. Veremos los temas de transfer learning, skip connections, y class activation mappings. Donde la primera herramienta nos ayudará a hacer el entrenamiento más ligero, la segunda nos permitirá atacar tener redes profundas con pesos fijos, y la última nos permetirá visualizar qué está viendo nuestra red CNN.\n"
   ]
  },
  {
   "cell_type": "markdown",
   "metadata": {
    "id": "FVmCV2wKzHZX"
   },
   "source": [
    "## 3.a Carga de datos (tan solo insertar datos kaggle, leer código y comentarios para entender la funcionalidad de cada celda)."
   ]
  },
  {
   "cell_type": "markdown",
   "metadata": {
    "id": "28kff3egzLoV"
   },
   "source": [
    "##### I) Iniciaremos cargando los datos. Para esto necesitará crear una cuenta en kaggle, dirigirse a su perfil, ir a Account, y en la sección API apretar _Create new API token_ , se descargará un archivo kaggle.json, ábralo como archivo de texto y obtenga su username y key. Luego ejecute el siguiente código (desconozco por qué pero a veces hay que ejecutar el código 2 veces para que funcione). Solución obtenida desde el hilo: https://gist.github.com/jayspeidell/d10b84b8d3da52df723beacc5b15cb27"
   ]
  },
  {
   "cell_type": "code",
   "execution_count": 2,
   "metadata": {
    "colab": {
     "base_uri": "https://localhost:8080/"
    },
    "executionInfo": {
     "elapsed": 10417,
     "status": "ok",
     "timestamp": 1605886977764,
     "user": {
      "displayName": "SEBASTIÁN MUÑOZ",
      "photoUrl": "",
      "userId": "08971805174609546934"
     },
     "user_tz": 180
    },
    "id": "NXNWJ3SZw80g",
    "outputId": "8aab7d3d-3e1f-45aa-a305-522b97b764d0"
   },
   "outputs": [
    {
     "name": "stdout",
     "output_type": "stream",
     "text": [
      "Downloading 10-monkey-species.zip to /content/competitions/monillos\n",
      " 96% 526M/547M [00:02<00:00, 128MB/s]\n",
      "100% 547M/547M [00:02<00:00, 201MB/s]\n",
      "10-monkey-species.zip  monkey_labels.txt  training  validation\n"
     ]
    }
   ],
   "source": [
    "username=\"gmezap\"\n",
    "key=\"67c43875aa87b82a44e920689eb419c7\"\n",
    "!pip install -q kaggle\n",
    "api_token = {\"username\":username,\"key\":key}\n",
    "import json\n",
    "import zipfile\n",
    "import os\n",
    "os.environ['KAGGLE_USERNAME'] = str(username)\n",
    "os.environ['KAGGLE_KEY'] = str(key)\n",
    "!kaggle datasets download -d slothkong/10-monkey-species\n",
    "if not os.path.exists(\"/content/competitions/monillos\"):\n",
    "    os.makedirs(\"/content/competitions/monillos\")\n",
    "os.chdir('/content/competitions/monillos')\n",
    "for file in os.listdir():\n",
    "    if file[-4:]==\".zip\":\n",
    "      zip_ref = zipfile.ZipFile(file, 'r')\n",
    "      zip_ref.extractall()\n",
    "      zip_ref.close()\n",
    "!ls"
   ]
  },
  {
   "cell_type": "markdown",
   "metadata": {
    "id": "HHuXB1lo0cWu"
   },
   "source": [
    "Ejecute el siguiente código como viene para generar los conjuntos de entrenamiento y validación, en este formato la primera columna indicará el archivo .jpg al que está ligado cada dato, y la columna labels indicará a qué clase pertenece. **Si le aparece un error de directorio volver a ejecutar celda anterior**"
   ]
  },
  {
   "cell_type": "code",
   "execution_count": 3,
   "metadata": {
    "executionInfo": {
     "elapsed": 12188,
     "status": "ok",
     "timestamp": 1605886979538,
     "user": {
      "displayName": "SEBASTIÁN MUÑOZ",
      "photoUrl": "",
      "userId": "08971805174609546934"
     },
     "user_tz": 180
    },
    "id": "idNhIgQXxYam"
   },
   "outputs": [],
   "source": [
    "from pathlib import Path\n",
    "import pandas as pd\n",
    "import cv2\n",
    "import numpy as np\n",
    "from keras.applications.vgg16 import preprocess_input\n",
    "import matplotlib.pyplot as plt\n",
    "\n",
    "labels_dict= {'n0':0, 'n1':1, 'n2':2, 'n3':3, 'n4':4, 'n5':5, 'n6':6, 'n7':7, 'n8':8, 'n9':9}\n",
    "training_data = Path('training/training/') \n",
    "validation_data = Path('validation/validation/') \n",
    "labels_path = Path('monkey_labels.txt')\n",
    "# Creating a dataframe for the training dataset\n",
    "train_df = []\n",
    "for folder in os.listdir(training_data):\n",
    "    # Define the path to the images\n",
    "    imgs_path = training_data / folder\n",
    "    # Get the list of all the images stored in that directory\n",
    "    imgs = sorted(imgs_path.glob('*.jpg'))\n",
    "    # Store each image path and corresponding label \n",
    "    for img_name in imgs:\n",
    "        train_df.append((str(img_name), labels_dict[folder]))\n",
    "train_df = pd.DataFrame(train_df, columns=['image', 'label'], index=None)\n",
    "# shuffle the dataset \n",
    "train_df = train_df.sample(frac=1.).reset_index(drop=True)\n",
    "\n",
    "# Creating dataframe for validation data in a similar fashion\n",
    "valid_df = []\n",
    "for folder in os.listdir(validation_data):\n",
    "    imgs_path = validation_data / folder\n",
    "    imgs = sorted(imgs_path.glob('*.jpg'))\n",
    "    for img_name in imgs:\n",
    "        valid_df.append((str(img_name), labels_dict[folder]))\n",
    "\n",
    "        \n",
    "valid_df = pd.DataFrame(valid_df, columns=['image', 'label'], index=None)\n",
    "# shuffle the dataset \n",
    "valid_df = valid_df.sample(frac=1.).reset_index(drop=True)"
   ]
  },
  {
   "cell_type": "markdown",
   "metadata": {
    "id": "aMnmSuqj4t-1"
   },
   "source": [
    "OpenCV es una poderosa herramienta para computer vision:\n",
    "\n",
    "_OpenCV (Open Source Computer Vision Library) is an open source computer vision and machine learning software library. OpenCV was built to provide a common infrastructure for computer vision applications and to accelerate the use of machine perception in the commercial products. Being a BSD-licensed product, OpenCV makes it easy for businesses to utilize and modify the code._\n",
    "\n",
    "Procederemos a visualizar una imagen del dataset al azar. Familiarícese con las f° a utilizar"
   ]
  },
  {
   "cell_type": "code",
   "execution_count": 4,
   "metadata": {
    "executionInfo": {
     "elapsed": 12184,
     "status": "ok",
     "timestamp": 1605886979538,
     "user": {
      "displayName": "SEBASTIÁN MUÑOZ",
      "photoUrl": "",
      "userId": "08971805174609546934"
     },
     "user_tz": 180
    },
    "id": "UoR4rXob4zza"
   },
   "outputs": [],
   "source": [
    "# dimensions to consider for the images\n",
    "img_rows, img_cols, img_channels = 224,224,3\n",
    "\n",
    "# batch size for training  \n",
    "batch_size=8\n",
    "\n",
    "# total number of classes in the dataset\n",
    "nb_classes=10"
   ]
  },
  {
   "cell_type": "markdown",
   "metadata": {
    "id": "XKVzSmLL3hnL"
   },
   "source": [
    "Como podrá inferir en base a la imágen mostrada, el dataset es muy pesado, por lo cual en lugar de trabajar directamente con un dataframe con los pixeles de la imágen, como en la pregunta 2, trabajaremos con la siguiente función."
   ]
  },
  {
   "cell_type": "code",
   "execution_count": 5,
   "metadata": {
    "executionInfo": {
     "elapsed": 12183,
     "status": "ok",
     "timestamp": 1605886979539,
     "user": {
      "displayName": "SEBASTIÁN MUÑOZ",
      "photoUrl": "",
      "userId": "08971805174609546934"
     },
     "user_tz": 180
    },
    "id": "XJ3B0S_9z2kQ"
   },
   "outputs": [],
   "source": [
    "from keras.utils import to_categorical\n",
    "def data_generator(data, batch_size, is_validation_data=False):\n",
    "    # Get total number of samples in the data\n",
    "    n = len(data)\n",
    "    nb_batches = int(np.ceil(n/batch_size))\n",
    "\n",
    "    # Get a numpy array of all the indices of the input data\n",
    "    indices = np.arange(n)\n",
    "    \n",
    "    # Define two numpy arrays for containing batch data and labels\n",
    "    batch_data = np.zeros((batch_size, img_rows, img_cols, img_channels), dtype=np.float32)\n",
    "    batch_labels = np.zeros((batch_size, nb_classes), dtype=np.float32)\n",
    "    while True:\n",
    "        if not is_validation_data:\n",
    "            # shuffle indices for the training data\n",
    "            np.random.shuffle(indices)\n",
    "            \n",
    "        for i in range(nb_batches):\n",
    "            # get the next batch \n",
    "            next_batch_indices = indices[i*batch_size:(i+1)*batch_size]\n",
    "            \n",
    "            # process the next batch\n",
    "            for j, idx in enumerate(next_batch_indices):\n",
    "                img = cv2.imread(data.iloc[idx][\"image\"])\n",
    "                img = cv2.cvtColor(img, cv2.COLOR_BGR2RGB)\n",
    "                label = data.iloc[idx][\"label\"]\n",
    "                img = cv2.resize(img, (img_rows, img_cols)).astype(np.float32)\n",
    "                batch_data[j] = img\n",
    "                batch_labels[j] = to_categorical(label,num_classes=nb_classes)\n",
    "            \n",
    "            batch_data = preprocess_input(batch_data)\n",
    "            yield batch_data, batch_labels"
   ]
  },
  {
   "cell_type": "code",
   "execution_count": 6,
   "metadata": {
    "executionInfo": {
     "elapsed": 12182,
     "status": "ok",
     "timestamp": 1605886979540,
     "user": {
      "displayName": "SEBASTIÁN MUÑOZ",
      "photoUrl": "",
      "userId": "08971805174609546934"
     },
     "user_tz": 180
    },
    "id": "vxnbZk1z2fj6"
   },
   "outputs": [],
   "source": [
    "#training data generator \n",
    "train_data_gen = data_generator(train_df, batch_size)\n",
    "\n",
    "# validation data generator \n",
    "valid_data_gen = data_generator(valid_df, batch_size, is_validation_data=True)"
   ]
  },
  {
   "cell_type": "markdown",
   "metadata": {
    "id": "JfIk38eEiYiQ"
   },
   "source": [
    "##### II) Visualice una imágen para cada clase de mono indicado su raza. Básese en el siguiente código.\n",
    "\n",
    "OpenCV es una poderosa herramienta para computer vision:\n",
    "\n",
    "_OpenCV (Open Source Computer Vision Library) is an open source computer vision and machine learning software library. OpenCV was built to provide a common infrastructure for computer vision applications and to accelerate the use of machine perception in the commercial products. Being a BSD-licensed product, OpenCV makes it easy for businesses to utilize and modify the code._\n",
    "\n",
    "Procederemos a visualizar una imagen del dataset al azar. Familiarícese con las f° a utilizar"
   ]
  },
  {
   "cell_type": "code",
   "execution_count": 7,
   "metadata": {
    "colab": {
     "base_uri": "https://localhost:8080/",
     "height": 281
    },
    "executionInfo": {
     "elapsed": 13399,
     "status": "ok",
     "timestamp": 1605886980768,
     "user": {
      "displayName": "SEBASTIÁN MUÑOZ",
      "photoUrl": "",
      "userId": "08971805174609546934"
     },
     "user_tz": 180
    },
    "id": "YgK5MkaoigQ5",
    "outputId": "22e15a61-1dfd-4308-dfe1-a3110ca40d73"
   },
   "outputs": [
    {
     "data": {
      "image/png": "[encoded data removed]",
      "text/plain": [
       "<Figure size 432x288 with 1 Axes>"
      ]
     },
     "metadata": {
      "needs_background": "light",
      "tags": []
     },
     "output_type": "display_data"
    }
   ],
   "source": [
    "idx= np.random.randint(100) # <- random number\n",
    "sample_image = cv2.imread(valid_df.iloc[idx]['image']) #read image from validation set\n",
    "sample_image = cv2.cvtColor(sample_image, cv2.COLOR_BGR2RGB) #set color\n",
    "sample_image = cv2.resize(sample_image, (img_rows, img_cols)) #resize, because .jpg images are from diferent size\n",
    "sample_label = valid_df.iloc[idx][\"label\"] #get label\n",
    "sample_image_processed = np.expand_dims(sample_image, axis=0) #not used here, but to transform image from (pixel,pixel,canal) to (obs, pixel, pixel, canal)\n",
    "sample_image_processed = preprocess_input(sample_image_processed) #transformation for vgg16\n",
    "plt.title(sample_label)\n",
    "plt.imshow(sample_image)\n",
    "plt.show()"
   ]
  },
  {
   "cell_type": "markdown",
   "metadata": {
    "id": "83lRdlA3-FlU"
   },
   "source": [
    "## 3.b Transfer learning"
   ]
  },
  {
   "cell_type": "markdown",
   "metadata": {
    "id": "2sDrs7ng-FVs"
   },
   "source": [
    "El aprendizaje por transferencia es un método de aprendizaje automático en el que un modelo desarrollado para una tarea se reutiliza como punto de partida para un modelo en una segunda tarea.\n",
    "\n",
    "Es un enfoque popular en el aprendizaje profundo en el que los modelos previamente entrenados se utilizan como punto de partida en la visión por computadora y las tareas de procesamiento del lenguaje natural, dada la gran cantidad de recursos informáticos y de tiempo necesarios para desarrollar modelos de redes neuronales sobre estos problemas y los enormes saltos en las habilidades que proporcionan sobre problemas relacionados. El concepto de transfer learning abarca más que este tipo de implementación en específico, p.ej, en el área de reinforcement learning se le puede llamar transfer learning al hecho de utilizar demostraciones humanas para ayudar a una red neuronal a resolver un _task_ o _multi-task_ en específico.\n",
    "\n",
    "<h1 align='center'> <img src=\"https://neurohive.io/wp-content/uploads/2018/11/vgg16-1-e1542731207177.png\" width=\"60%\" height=\"60%\" /> </h1> \n",
    "<h1 align='center'> VGG16 </h1> \n",
    "\n",
    "Para este item utilizaremos la red vgg16 como red base (info: https://neurohive.io/en/popular-networks/vgg16/) desarrollada por Oxford."
   ]
  },
  {
   "cell_type": "markdown",
   "metadata": {
    "id": "HoXvIUbyAjlG"
   },
   "source": [
    "##### I) Procederemos a obtener la red VGG16 desde keras.applications, retirar su arquitectura densa, congelar sus pesos, y añadir una capa densa propia entrenable."
   ]
  },
  {
   "cell_type": "code",
   "execution_count": 8,
   "metadata": {
    "colab": {
     "base_uri": "https://localhost:8080/"
    },
    "executionInfo": {
     "elapsed": 25440,
     "status": "ok",
     "timestamp": 1605886992821,
     "user": {
      "displayName": "SEBASTIÁN MUÑOZ",
      "photoUrl": "",
      "userId": "08971805174609546934"
     },
     "user_tz": 180
    },
    "id": "vR3YrzNp-EkQ",
    "outputId": "284f79a3-faf2-46cd-d521-c750448dbb94"
   },
   "outputs": [
    {
     "name": "stdout",
     "output_type": "stream",
     "text": [
      "Downloading data from https://storage.googleapis.com/tensorflow/keras-applications/vgg16/vgg16_weights_tf_dim_ordering_tf_kernels.h5\n",
      "553467904/553467096 [==============================] - 6s 0us/step\n"
     ]
    }
   ],
   "source": [
    "from keras.applications.vgg16 import VGG16\n",
    "from keras.layers import Dropout,Dense,Flatten\n",
    "from keras.optimizers import RMSprop\n",
    "from keras.callbacks import History, EarlyStopping\n",
    "import tensorflow as tf\n",
    "from keras.applications.vgg16 import preprocess_input\n",
    "tf.keras.backend.clear_session()\n",
    "tf.compat.v1.disable_eager_execution()\n",
    "\n",
    "base_model = VGG16(input_shape=(img_rows, img_cols, img_channels), weights='imagenet', include_top=True)\n",
    "#  get the output of the last layer\n",
    "base_model_output = base_model.layers[-2].output\n",
    "# # add new layers \n",
    "x = Dropout(0.7)(base_model_output)\n",
    "output = Dense(10, activation='softmax')(x)\n",
    "# define a new model \n",
    "model = tf.keras.models.Model(base_model.input, output)\n",
    "# # Freeze all the base model layers\n",
    "for layer in base_model.layers[:-1]:\n",
    "    layer.trainable=False\n",
    "my_callbacks = [History(), # Returns validation and training loss\n",
    "    EarlyStopping(patience=2,monitor=\"val_accuracy\", #Stops training when the validation loss doesnt get better in n°patience consecutive epochs\n",
    "                                     restore_best_weights=True)]\n",
    "model.compile(loss='categorical_crossentropy', optimizer=RMSprop(1e-3), metrics=['accuracy'])"
   ]
  },
  {
   "cell_type": "code",
   "execution_count": 9,
   "metadata": {
    "colab": {
     "base_uri": "https://localhost:8080/"
    },
    "executionInfo": {
     "elapsed": 25433,
     "status": "ok",
     "timestamp": 1605886992823,
     "user": {
      "displayName": "SEBASTIÁN MUÑOZ",
      "photoUrl": "",
      "userId": "08971805174609546934"
     },
     "user_tz": 180
    },
    "id": "UZbVzMBtGiVM",
    "outputId": "583a60d2-882c-4eae-e27c-cf6007f2e235"
   },
   "outputs": [
    {
     "name": "stdout",
     "output_type": "stream",
     "text": [
      "Model: \"functional_1\"\n",
      "_________________________________________________________________\n",
      "Layer (type)                 Output Shape              Param #   \n",
      "=================================================================\n",
      "input_1 (InputLayer)         [(None, 224, 224, 3)]     0         \n",
      "_________________________________________________________________\n",
      "block1_conv1 (Conv2D)        (None, 224, 224, 64)      1792      \n",
      "_________________________________________________________________\n",
      "block1_conv2 (Conv2D)        (None, 224, 224, 64)      36928     \n",
      "_________________________________________________________________\n",
      "block1_pool (MaxPooling2D)   (None, 112, 112, 64)      0         \n",
      "_________________________________________________________________\n",
      "block2_conv1 (Conv2D)        (None, 112, 112, 128)     73856     \n",
      "_________________________________________________________________\n",
      "block2_conv2 (Conv2D)        (None, 112, 112, 128)     147584    \n",
      "_________________________________________________________________\n",
      "block2_pool (MaxPooling2D)   (None, 56, 56, 128)       0         \n",
      "_________________________________________________________________\n",
      "block3_conv1 (Conv2D)        (None, 56, 56, 256)       295168    \n",
      "_________________________________________________________________\n",
      "block3_conv2 (Conv2D)        (None, 56, 56, 256)       590080    \n",
      "_________________________________________________________________\n",
      "block3_conv3 (Conv2D)        (None, 56, 56, 256)       590080    \n",
      "_________________________________________________________________\n",
      "block3_pool (MaxPooling2D)   (None, 28, 28, 256)       0         \n",
      "_________________________________________________________________\n",
      "block4_conv1 (Conv2D)        (None, 28, 28, 512)       1180160   \n",
      "_________________________________________________________________\n",
      "block4_conv2 (Conv2D)        (None, 28, 28, 512)       2359808   \n",
      "_________________________________________________________________\n",
      "block4_conv3 (Conv2D)        (None, 28, 28, 512)       2359808   \n",
      "_________________________________________________________________\n",
      "block4_pool (MaxPooling2D)   (None, 14, 14, 512)       0         \n",
      "_________________________________________________________________\n",
      "block5_conv1 (Conv2D)        (None, 14, 14, 512)       2359808   \n",
      "_________________________________________________________________\n",
      "block5_conv2 (Conv2D)        (None, 14, 14, 512)       2359808   \n",
      "_________________________________________________________________\n",
      "block5_conv3 (Conv2D)        (None, 14, 14, 512)       2359808   \n",
      "_________________________________________________________________\n",
      "block5_pool (MaxPooling2D)   (None, 7, 7, 512)         0         \n",
      "_________________________________________________________________\n",
      "flatten (Flatten)            (None, 25088)             0         \n",
      "_________________________________________________________________\n",
      "fc1 (Dense)                  (None, 4096)              102764544 \n",
      "_________________________________________________________________\n",
      "fc2 (Dense)                  (None, 4096)              16781312  \n",
      "_________________________________________________________________\n",
      "dropout (Dropout)            (None, 4096)              0         \n",
      "_________________________________________________________________\n",
      "dense (Dense)                (None, 10)                40970     \n",
      "=================================================================\n",
      "Total params: 134,301,514\n",
      "Trainable params: 40,970\n",
      "Non-trainable params: 134,260,544\n",
      "_________________________________________________________________\n"
     ]
    }
   ],
   "source": [
    "model.summary()"
   ]
  },
  {
   "cell_type": "code",
   "execution_count": 10,
   "metadata": {
    "colab": {
     "base_uri": "https://localhost:8080/"
    },
    "executionInfo": {
     "elapsed": 141700,
     "status": "ok",
     "timestamp": 1605887109099,
     "user": {
      "displayName": "SEBASTIÁN MUÑOZ",
      "photoUrl": "",
      "userId": "08971805174609546934"
     },
     "user_tz": 180
    },
    "id": "TAaTQbI8B0nW",
    "outputId": "dbb25d87-5594-4551-c69d-fc8acc37ba31"
   },
   "outputs": [
    {
     "name": "stdout",
     "output_type": "stream",
     "text": [
      "Epoch 1/3\n",
      "137/137 [==============================] - ETA: 0s - batch: 68.0000 - size: 8.0000 - loss: 1.7392 - accuracy: 0.6770WARNING:tensorflow:From /usr/local/lib/python3.6/dist-packages/tensorflow/python/keras/engine/training_v1.py:2048: Model.state_updates (from tensorflow.python.keras.engine.training) is deprecated and will be removed in a future version.\n",
      "Instructions for updating:\n",
      "This property should not be used in TensorFlow 2.0, as updates are applied automatically.\n",
      "137/137 [==============================] - 36s 264ms/step - batch: 68.0000 - size: 8.0000 - loss: 1.7392 - accuracy: 0.6770 - val_loss: 0.1395 - val_accuracy: 0.9706\n",
      "Epoch 2/3\n",
      "137/137 [==============================] - 36s 264ms/step - batch: 68.0000 - size: 8.0000 - loss: 0.4749 - accuracy: 0.8996 - val_loss: 0.1074 - val_accuracy: 0.9743\n",
      "Epoch 3/3\n",
      "137/137 [==============================] - 36s 261ms/step - batch: 68.0000 - size: 8.0000 - loss: 0.2573 - accuracy: 0.9544 - val_loss: 0.1390 - val_accuracy: 0.9779\n"
     ]
    }
   ],
   "source": [
    "# number of training and validation steps for training and validation\n",
    "nb_train_steps = int(np.ceil(len(train_df)/batch_size))\n",
    "nb_valid_steps = int(np.ceil(len(valid_df)/batch_size))\n",
    "# number of epochs \n",
    "nb_epochs=3\n",
    "\n",
    "hist = model.fit(train_data_gen,      # ¿Demasiado lento?, revisar estar usando entorno de ejecución en modo GPU. Debiese demorarse aprox. 40 secs por epoch. Dejar verbose\n",
    "                                          # para seguir el entrenamiento, esto tomará su tiempo en comparación con las demás secciones.\n",
    "                              epochs=nb_epochs, \n",
    "                              steps_per_epoch=nb_train_steps, \n",
    "                              validation_data=valid_data_gen, \n",
    "                              validation_steps=nb_valid_steps,\n",
    "                              callbacks=my_callbacks)"
   ]
  },
  {
   "cell_type": "markdown",
   "metadata": {
    "id": "q5bGkyuOKRfe"
   },
   "source": [
    "##### II) Grafique los errores y accuracy de entrenamiento y validación a lo largo de los epochs. **Comente**"
   ]
  },
  {
   "cell_type": "code",
   "execution_count": 11,
   "metadata": {
    "colab": {
     "base_uri": "https://localhost:8080/",
     "height": 371
    },
    "executionInfo": {
     "elapsed": 142110,
     "status": "ok",
     "timestamp": 1605887109520,
     "user": {
      "displayName": "SEBASTIÁN MUÑOZ",
      "photoUrl": "",
      "userId": "08971805174609546934"
     },
     "user_tz": 180
    },
    "id": "SSbCuaOQKYi-",
    "outputId": "f2c3225b-af4b-40df-b45d-93a964c1bf21"
   },
   "outputs": [
    {
     "data": {
      "text/plain": [
       "<matplotlib.legend.Legend at 0x7f97dc1f14e0>"
      ]
     },
     "execution_count": 11,
     "metadata": {
      "tags": []
     },
     "output_type": "execute_result"
    },
    {
     "data": {
      "image/png": "[encoded data removed]",
      "text/plain": [
       "<Figure size 1440x432 with 2 Axes>"
      ]
     },
     "metadata": {
      "needs_background": "light",
      "tags": []
     },
     "output_type": "display_data"
    }
   ],
   "source": [
    "from pylab import rcParams\n",
    "rcParams['figure.figsize'] = 20, 6\n",
    "plt.subplot(1,2,1)\n",
    "plt.plot(hist.history[\"accuracy\"],label=\"training accuracy\")\n",
    "plt.plot(hist.history[\"val_accuracy\"],\"b\",label=\"validation accuracy\")\n",
    "plt.grid()\n",
    "plt.legend()\n",
    "plt.subplot(1,2,2)\n",
    "plt.plot(hist.history[\"loss\"],label=\"training loss\")\n",
    "plt.plot(hist.history[\"val_loss\"],\"b\", label=\"validation loss\")\n",
    "plt.grid()\n",
    "plt.legend()"
   ]
  },
  {
   "cell_type": "markdown",
   "metadata": {
    "id": "Tw5C3SJGCZyc"
   },
   "source": [
    "###Respuesta\n",
    "\n",
    "Conseguimos un muy buen accuracy en 3 epochs. Esto se logró al reutilizar el modelo base y entrenando una cantidad relativamente pequeña de parametros.(los de la capa añadida)\n",
    "\n",
    "Hay que notar que respecto a la pregunta 2, para este proceso en entrenamiento se requiere de muy pocos epochs en comparación.\n",
    "Ademas, el error de validacion es bastante bajo luego de los 3 epochs.\n",
    "\n",
    "Hay indicios de sobreajuste si es que se aumenta la cantidad de epochs."
   ]
  },
  {
   "cell_type": "markdown",
   "metadata": {
    "id": "hEb3sfX3LYXu"
   },
   "source": [
    "##### III) **(Las preguntas de este ítem 2.b se tendrán que volver a implementar para futuras preguntas)** \n",
    "\n",
    "Realice la visualización del input (con título predicted label y true label), Class Activation Map (con título del label y salida de la red correspondiente), y superposición de input y CAM correspondiente al predicted label. **Deberá** modificar el código para obtener lo solicitado para 10 entradas distintas (1 para cada clase de mono) y su CAM para cada una de las 10 clases de monos. En total para cada clase de mono deberá obtener: 1 imágen de entrada de la clase de mono en cuestión, 10 CAM una para cada neurona del output de la red, y 1 superposición de la imágen de entrada y el CAM correspondiente a la predicción (por lo tanto, 120 imágenes en total). **Las imágenes tienen que ser claras, cada una de tamaño semejante a las que entrega el siguiente código.** Ocupe su herramienta gráfica preferida.\n",
    "\n",
    "Apoyándose de las visualizaciones responda todas las preguntas siguientes:\n",
    "\n",
    "**1) ¿Qué es CAM?, ¿Cómo nos ayuda a entender la visualización de nuestra CNN?** Puede limitarse a responder con la información entregada en el artículo https://medium.com/@GaganaB/class-activation-maps-551477720679 (si es que se le acabaron las visitas a medium, puede entrar en modo incógnito de manera ilimitada) y en el video https://www.youtube.com/watch?v=vTY58-51XZA&ab_channel=LazyProgrammer\n",
    "\n",
    "**2) ¿Dónde se enfoca la red para verificar a qué clase de mono pertenece la imágen? ¿Qué estrategia asume la red para reconocer cada clase de mono?** "
   ]
  },
  {
   "cell_type": "markdown",
   "metadata": {
    "id": "zD1SSGpNCroK"
   },
   "source": [
    "** 1.- **  Una CAM es un metodo de visualizacion del comportamiento de aprendizaje de una red neuronal, mediante el promedio ponderado de la última capa convolucional. Nos ayuda a reconocer las partes que la CNN considera clave al momento de clasificar las clases. \n",
    "\n",
    "** 2.- **  Suele enfocarse ya sea en la forma y rasgos faciales de los monos."
   ]
  },
  {
   "cell_type": "code",
   "execution_count": 13,
   "metadata": {
    "executionInfo": {
     "elapsed": 145364,
     "status": "ok",
     "timestamp": 1605887112786,
     "user": {
      "displayName": "SEBASTIÁN MUÑOZ",
      "photoUrl": "",
      "userId": "08971805174609546934"
     },
     "user_tz": 180
    },
    "id": "cNPSDirSMxhl"
   },
   "outputs": [],
   "source": [
    "plt.rcParams[\"figure.figsize\"]=[20,8]\n",
    "from keras import backend as K\n",
    "\n",
    "# get random image, true label, and predicted label\n",
    "idx= np.random.randint(100) # <- random number\n",
    "\n",
    "\n",
    "\n",
    "def monos_cam(idx):\n",
    "  true_label=valid_df.iloc[idx]['label']\n",
    "  ####### VISUALIZACIÓN INPUT\n",
    "  sample_image = cv2.imread(valid_df.iloc[idx]['image'])\n",
    "  sample_image = cv2.cvtColor(sample_image, cv2.COLOR_BGR2RGB)\n",
    "  sample_image = cv2.resize(sample_image, (img_rows, img_cols))\n",
    "  sample_label = valid_df.iloc[idx][\"label\"]\n",
    "  sample_image_processed = np.expand_dims(sample_image, axis=0)\n",
    "  sample_image_processed = preprocess_input(sample_image_processed)\n",
    "  predicted_label=np.argmax(model.predict(sample_image_processed), axis=-1)[0]\n",
    "  rcParams[\"figure.figsize\"] = 18, 16\n",
    "  plt.subplot(3,4,1)\n",
    "  plt.title(\"Predicted label: \"+str(predicted_label)+\"\\n True label: \"+str(true_label))\n",
    "  plt.imshow(sample_image)# <- Image is ready to plot\n",
    "\n",
    "  ##### Visualización CAM\n",
    "  heatmaps=[]\n",
    "  kk=0\n",
    "  predicted_label=np.argmax(model.predict(sample_image_processed), axis=-1)[0] #repeated for clearness\n",
    "  for k in range(10):\n",
    "    predicted_output = model.output[:, k]\n",
    "    # choose the last conv layer in your model\n",
    "    last_conv_layer = model.get_layer('block5_conv3') #<....... you'll need to look what's the name of the last conv model.summary())\n",
    "    grads = K.gradients(predicted_output, last_conv_layer.output)[0] #predicted output=loss, last_conv_layer=input al gradiente, ¿qué calculará el gradiente entonces?\n",
    "    # take mean gradient per feature map\n",
    "    grads = K.mean(grads, axis=(0,1,2))\n",
    "    # Define a function that generates the values for the output and gradients\n",
    "    evaluation_function = K.function([model.input], [grads, last_conv_layer.output[0]]) #en eager executions disabled estamos trabajando con tensores continuamente, \n",
    "                                                                                        # si siguen el código se darán cuenta que evaluation function mantiene \n",
    "                                                                                        # las definiciones de variables\n",
    "    # get the values\n",
    "    grads_values, conv_ouput_values = evaluation_function([sample_image_processed]) #run evaluation function\n",
    "    # iterate over each feature map in yout conv output and multiply\n",
    "    # the gradient values with the conv output values. This gives an \n",
    "    # indication of \"how important a feature is\"\n",
    "    for i in range(conv_ouput_values.shape[-1]): # we have 512 features in our last conv layer\n",
    "        conv_ouput_values[:,:,i] *= grads_values[i]\n",
    "    # create a heatmap\n",
    "    heatmap = np.mean(conv_ouput_values, axis=-1)\n",
    "    # remove negative values\n",
    "    heatmap = np.maximum(heatmap, 0)\n",
    "    # re-scale\n",
    "    heatmap /= heatmap.max()\n",
    "    # get the heatmap for class activation map(CAM)\n",
    "    heatmap = cv2.resize(heatmap, (sample_image.shape[0], sample_image.shape[1]))\n",
    "    heatmap = heatmap *255\n",
    "    heatmap = np.clip(heatmap, 0, 255).astype(np.uint8)\n",
    "    heatmap = cv2.applyColorMap(heatmap, cv2.COLORMAP_JET)\n",
    "    plt.subplot(3,4,2+kk)\n",
    "    plt.title(\"CAM for class:\"+ str(k)+\"\\n output:\"+str(np.round(model.predict(sample_image_processed)[0,k],2)*100)+\"%\")\n",
    "    plt.imshow(heatmap)# <- Image is ready to plot\n",
    "    kk+=1\n",
    "    heatmaps.append(heatmap) # <- correct it\n",
    "  # get the superimposed image\n",
    "  super_imposed_image = heatmaps[predicted_label] * 0.5 + sample_image #<- correct it  \n",
    "  super_imposed_image = np.clip(super_imposed_image, 0,255).astype(np.uint8)\n",
    "  plt.subplot(3,4,12)\n",
    "  plt.title(\"Superimposed image\")\n",
    "  plt.imshow(super_imposed_image)# <- Image is ready to plot\n",
    "  plt.show()"
   ]
  },
  {
   "cell_type": "code",
   "execution_count": 14,
   "metadata": {
    "executionInfo": {
     "elapsed": 145363,
     "status": "ok",
     "timestamp": 1605887112787,
     "user": {
      "displayName": "SEBASTIÁN MUÑOZ",
      "photoUrl": "",
      "userId": "08971805174609546934"
     },
     "user_tz": 180
    },
    "id": "TJyiD1ffxGLW"
   },
   "outputs": [],
   "source": [
    "# lista con un indice de un mono de cada clase de manera aleatoria\n",
    "monos=[]\n",
    "c=0\n",
    "while c<10:\n",
    "  idx= np.random.randint(100) # <- random number\n",
    "  if valid_df.iloc[idx][\"label\"]==c:\n",
    "    monos.append(idx)\n",
    "    c+=1"
   ]
  },
  {
   "cell_type": "code",
   "execution_count": 15,
   "metadata": {
    "colab": {
     "base_uri": "https://localhost:8080/",
     "height": 1000,
     "output_embedded_package_id": "1Lj7ZEw3G0CeEykZGI286pdUj6G9APky9"
    },
    "executionInfo": {
     "elapsed": 214852,
     "status": "ok",
     "timestamp": 1605887182278,
     "user": {
      "displayName": "SEBASTIÁN MUÑOZ",
      "photoUrl": "",
      "userId": "08971805174609546934"
     },
     "user_tz": 180
    },
    "id": "OOGkKp_YGFfT",
    "outputId": "f780986a-35a5-43ba-d1b9-da4524e00cd7"
   },
   "outputs": [
    {
     "data": {
      "text/plain": [
       "Output hidden; open in https://colab.research.google.com to view."
      ]
     },
     "metadata": {},
     "output_type": "display_data"
    }
   ],
   "source": [
    "for mono in monos:\n",
    "  monos_cam(mono)"
   ]
  },
  {
   "cell_type": "markdown",
   "metadata": {
    "id": "RK-Z8E15wa-Q"
   },
   "source": [
    "##### IV) **(Las preguntas de este ítem 2.b se tendrán que volver a implementar para futuras preguntas)** Visualice los feature maps de **todas** las capas convolucionales del modelo para una entrada de su elección (mantenga el id de esta imágen para cuando tenga que visualizar nuevamente en 3.c y 3.d). Apóyese en el siguiente código que las genera para la primera capa. \n",
    "\n",
    "**Pregunta:** ¿Cómo se relaciona esta información respecto a lo que nos entrega CAM? ¿Qué feature map ocupa CAM para construirse?"
   ]
  },
  {
   "cell_type": "markdown",
   "metadata": {
    "id": "4AZh7WANaVyM"
   },
   "source": [
    "Cam utiliza los feature map de la última convolución para construirse. Como la ultima convolución depende de los resultados de capas convolucionales anteriores, CAM está relacionado hasta cierto punto con todas las convoluciones de la red de forma indirecta."
   ]
  },
  {
   "cell_type": "code",
   "execution_count": 16,
   "metadata": {
    "executionInfo": {
     "elapsed": 214851,
     "status": "ok",
     "timestamp": 1605887182279,
     "user": {
      "displayName": "SEBASTIÁN MUÑOZ",
      "photoUrl": "",
      "userId": "08971805174609546934"
     },
     "user_tz": 180
    },
    "id": "l1F-i23axTjx"
   },
   "outputs": [],
   "source": [
    "# get random image, SELECCIONE UNA A GUSTO\n",
    "# idx= np.random.randint(100) # <- random number\n",
    "idx= monos[4]\n",
    "true_label=valid_df.iloc[idx]['label']\n",
    "####### VISUALIZACIÓN INPUT\n",
    "sample_image = cv2.imread(valid_df.iloc[idx]['image'])\n",
    "sample_image = cv2.cvtColor(sample_image, cv2.COLOR_BGR2RGB)\n",
    "sample_image = cv2.resize(sample_image, (img_rows, img_cols))\n",
    "sample_label = valid_df.iloc[idx][\"label\"]\n",
    "sample_image_processed = np.expand_dims(sample_image, axis=0)\n",
    "sample_image_processed = preprocess_input(sample_image_processed)"
   ]
  },
  {
   "cell_type": "code",
   "execution_count": 17,
   "metadata": {
    "executionInfo": {
     "elapsed": 214849,
     "status": "ok",
     "timestamp": 1605887182280,
     "user": {
      "displayName": "SEBASTIÁN MUÑOZ",
      "photoUrl": "",
      "userId": "08971805174609546934"
     },
     "user_tz": 180
    },
    "id": "Qcx4VRI_YrQh"
   },
   "outputs": [],
   "source": [
    "import keras\n",
    "from keras.models import Sequential\n",
    "def get_n_layers(max_layer, original_model):\n",
    "  truncated_model = Sequential()\n",
    "  for layer in range(max_layer): #first is the input\n",
    "    truncated_model.add(original_model.get_layer(index=layer))\n",
    "  # truncated_model.summary()\n",
    "  return truncated_model"
   ]
  },
  {
   "cell_type": "code",
   "execution_count": 18,
   "metadata": {
    "colab": {
     "base_uri": "https://localhost:8080/",
     "height": 1000,
     "output_embedded_package_id": "1XAXXcY7zcC3LrQjQMSsht1cUgcCuG1iO"
    },
    "executionInfo": {
     "elapsed": 237527,
     "status": "ok",
     "timestamp": 1605887204960,
     "user": {
      "displayName": "SEBASTIÁN MUÑOZ",
      "photoUrl": "",
      "userId": "08971805174609546934"
     },
     "user_tz": 180
    },
    "id": "U4odNpIa1rLa",
    "outputId": "d29b987a-dbf0-4dcd-99db-8329ce2ca961"
   },
   "outputs": [
    {
     "data": {
      "text/plain": [
       "Output hidden; open in https://colab.research.google.com to view."
      ]
     },
     "metadata": {},
     "output_type": "display_data"
    }
   ],
   "source": [
    "for index,layer in enumerate(model.layers):\n",
    "  if isinstance(layer,keras.layers.Conv2D):\n",
    "    fm_size=layer.output.shape[2] # largo de la imagen\n",
    "    fm_num=layer.output.shape[3] # cantidad de feature maps de la imagen\n",
    "    fm_largo=int(np.ceil(np.sqrt(fm_num)))\n",
    "    print(\"Capa convolucional \"+str(index+1))\n",
    "    vis_model=get_n_layers(index+1,model)\n",
    "    fet_maps_stacked=vis_model.predict(sample_image_processed)[0,:,:,:]\n",
    "    feature_maps=np.zeros((fm_size*8,fm_size*8))\n",
    "    k=0\n",
    "    for i in range(8):\n",
    "      for j in range(8):\n",
    "        feature_map = fet_maps_stacked[:,:,k]\n",
    "        feature_map -= feature_map.mean()\n",
    "        feature_map /= feature_map.std()\n",
    "        feature_map *=255\n",
    "        feature_map = np.clip(feature_map, 0, 255).astype(np.uint8)\n",
    "        feature_maps[fm_size*i:fm_size*(i+1),fm_size*j:fm_size*(j+1)]=feature_map\n",
    "        k+=1\n",
    "    plt.subplot(1,2,1)\n",
    "    plt.title(\"Predicted label: \"+str(np.argmax(model.predict(sample_image_processed), axis=-1)[0])+\"\\n True label: \"+str(true_label))\n",
    "    plt.imshow(sample_image)# <- Image is ready to plot\n",
    "    plt.subplot(1,2,2)\n",
    "    plt.title(\"Feature maps capa convolucional: \"+str(index+1))\n",
    "    plt.imshow(feature_maps)\n",
    "    plt.tight_layout()\n",
    "    plt.show()"
   ]
  },
  {
   "cell_type": "markdown",
   "metadata": {
    "id": "OkPaxu8w39Fg"
   },
   "source": [
    "## 3.c Transfer learning parte II\n",
    "I) **Repetir los puntos I) a IV) de la sección anterior** usando como red base VGG19 (Si es que desea utilizar otra no hay problema, visitar: https://keras.io/api/applications/). Para la visualización de CAM y feature maps, use las mismas imágenes de entrada para mejor comparación.\n",
    "\n",
    "\n",
    "**A partir de los resultados responda: ¿Cómo cambió la estrategia de esta red respecto a la del punto anterior?**"
   ]
  },
  {
   "cell_type": "markdown",
   "metadata": {
    "id": "9pEsqMSdbEQ1"
   },
   "source": [
    "###Respuesta\n",
    "\n",
    "A partir de los CAM y feature maps extraidos, se puede decir que la red usa una estrategia similar para reconocer las clases de monos (reconoce sus gestos faciales), pero además, ahora pondera mucho mas la forma y silueta de los inputs.\n",
    "\n",
    "Los resultados del accuracy y errores se mantienen respecto al modelo anterior."
   ]
  },
  {
   "cell_type": "markdown",
   "metadata": {
    "id": "wq38XNGhN_hA"
   },
   "source": [
    "### Importacion y compilacion del modelo"
   ]
  },
  {
   "cell_type": "code",
   "execution_count": 19,
   "metadata": {
    "colab": {
     "base_uri": "https://localhost:8080/"
    },
    "executionInfo": {
     "elapsed": 275188,
     "status": "ok",
     "timestamp": 1605887242623,
     "user": {
      "displayName": "SEBASTIÁN MUÑOZ",
      "photoUrl": "",
      "userId": "08971805174609546934"
     },
     "user_tz": 180
    },
    "id": "hbsc4BxvNCao",
    "outputId": "5de756a2-8a76-4f05-ed9e-6d91169b9e3d"
   },
   "outputs": [
    {
     "name": "stdout",
     "output_type": "stream",
     "text": [
      "Downloading data from https://storage.googleapis.com/tensorflow/keras-applications/vgg19/vgg19_weights_tf_dim_ordering_tf_kernels.h5\n",
      "574717952/574710816 [==============================] - 4s 0us/step\n"
     ]
    }
   ],
   "source": [
    "from keras.applications.vgg19 import VGG19\n",
    "from keras.applications.vgg19 import preprocess_input\n",
    "tf.keras.backend.clear_session()\n",
    "tf.compat.v1.disable_eager_execution()\n",
    "\n",
    "base_model = VGG19(input_shape=(img_rows, img_cols, img_channels), weights='imagenet', include_top=True)\n",
    "#  get the output of the last layer\n",
    "base_model_output = base_model.layers[-2].output\n",
    "# # add new layers \n",
    "x = Dropout(0.7)(base_model_output)\n",
    "output = Dense(10, activation='softmax')(x)\n",
    "# define a new model \n",
    "model = tf.keras.models.Model(base_model.input, output)\n",
    "# # Freeze all the base model layers\n",
    "for layer in base_model.layers[:-1]:\n",
    "    layer.trainable=False\n",
    "my_callbacks = [History(), # Returns validation and training loss\n",
    "    EarlyStopping(patience=2,monitor=\"val_accuracy\", #Stops training when the validation loss doesnt get better in n°patience consecutive epochs\n",
    "                                     restore_best_weights=True)]\n",
    "model.compile(loss='categorical_crossentropy', optimizer=RMSprop(1e-3), metrics=['accuracy'])"
   ]
  },
  {
   "cell_type": "code",
   "execution_count": 20,
   "metadata": {
    "colab": {
     "base_uri": "https://localhost:8080/"
    },
    "executionInfo": {
     "elapsed": 275179,
     "status": "ok",
     "timestamp": 1605887242624,
     "user": {
      "displayName": "SEBASTIÁN MUÑOZ",
      "photoUrl": "",
      "userId": "08971805174609546934"
     },
     "user_tz": 180
    },
    "id": "qnCjD8SjNT6r",
    "outputId": "4c3d1072-026d-4539-fd64-f13e2e9040b9"
   },
   "outputs": [
    {
     "name": "stdout",
     "output_type": "stream",
     "text": [
      "Model: \"functional_1\"\n",
      "_________________________________________________________________\n",
      "Layer (type)                 Output Shape              Param #   \n",
      "=================================================================\n",
      "input_1 (InputLayer)         [(None, 224, 224, 3)]     0         \n",
      "_________________________________________________________________\n",
      "block1_conv1 (Conv2D)        (None, 224, 224, 64)      1792      \n",
      "_________________________________________________________________\n",
      "block1_conv2 (Conv2D)        (None, 224, 224, 64)      36928     \n",
      "_________________________________________________________________\n",
      "block1_pool (MaxPooling2D)   (None, 112, 112, 64)      0         \n",
      "_________________________________________________________________\n",
      "block2_conv1 (Conv2D)        (None, 112, 112, 128)     73856     \n",
      "_________________________________________________________________\n",
      "block2_conv2 (Conv2D)        (None, 112, 112, 128)     147584    \n",
      "_________________________________________________________________\n",
      "block2_pool (MaxPooling2D)   (None, 56, 56, 128)       0         \n",
      "_________________________________________________________________\n",
      "block3_conv1 (Conv2D)        (None, 56, 56, 256)       295168    \n",
      "_________________________________________________________________\n",
      "block3_conv2 (Conv2D)        (None, 56, 56, 256)       590080    \n",
      "_________________________________________________________________\n",
      "block3_conv3 (Conv2D)        (None, 56, 56, 256)       590080    \n",
      "_________________________________________________________________\n",
      "block3_conv4 (Conv2D)        (None, 56, 56, 256)       590080    \n",
      "_________________________________________________________________\n",
      "block3_pool (MaxPooling2D)   (None, 28, 28, 256)       0         \n",
      "_________________________________________________________________\n",
      "block4_conv1 (Conv2D)        (None, 28, 28, 512)       1180160   \n",
      "_________________________________________________________________\n",
      "block4_conv2 (Conv2D)        (None, 28, 28, 512)       2359808   \n",
      "_________________________________________________________________\n",
      "block4_conv3 (Conv2D)        (None, 28, 28, 512)       2359808   \n",
      "_________________________________________________________________\n",
      "block4_conv4 (Conv2D)        (None, 28, 28, 512)       2359808   \n",
      "_________________________________________________________________\n",
      "block4_pool (MaxPooling2D)   (None, 14, 14, 512)       0         \n",
      "_________________________________________________________________\n",
      "block5_conv1 (Conv2D)        (None, 14, 14, 512)       2359808   \n",
      "_________________________________________________________________\n",
      "block5_conv2 (Conv2D)        (None, 14, 14, 512)       2359808   \n",
      "_________________________________________________________________\n",
      "block5_conv3 (Conv2D)        (None, 14, 14, 512)       2359808   \n",
      "_________________________________________________________________\n",
      "block5_conv4 (Conv2D)        (None, 14, 14, 512)       2359808   \n",
      "_________________________________________________________________\n",
      "block5_pool (MaxPooling2D)   (None, 7, 7, 512)         0         \n",
      "_________________________________________________________________\n",
      "flatten (Flatten)            (None, 25088)             0         \n",
      "_________________________________________________________________\n",
      "fc1 (Dense)                  (None, 4096)              102764544 \n",
      "_________________________________________________________________\n",
      "fc2 (Dense)                  (None, 4096)              16781312  \n",
      "_________________________________________________________________\n",
      "dropout (Dropout)            (None, 4096)              0         \n",
      "_________________________________________________________________\n",
      "dense (Dense)                (None, 10)                40970     \n",
      "=================================================================\n",
      "Total params: 139,611,210\n",
      "Trainable params: 40,970\n",
      "Non-trainable params: 139,570,240\n",
      "_________________________________________________________________\n"
     ]
    }
   ],
   "source": [
    "model.summary()"
   ]
  },
  {
   "cell_type": "markdown",
   "metadata": {
    "id": "CYF-gVJ7OLXM"
   },
   "source": [
    "### Entrenamiento"
   ]
  },
  {
   "cell_type": "code",
   "execution_count": 21,
   "metadata": {
    "colab": {
     "base_uri": "https://localhost:8080/"
    },
    "executionInfo": {
     "elapsed": 385796,
     "status": "ok",
     "timestamp": 1605887353249,
     "user": {
      "displayName": "SEBASTIÁN MUÑOZ",
      "photoUrl": "",
      "userId": "08971805174609546934"
     },
     "user_tz": 180
    },
    "id": "U0ZSfXyxOOVH",
    "outputId": "6cb7c82a-1af2-4b0f-d023-1a000959f820"
   },
   "outputs": [
    {
     "name": "stdout",
     "output_type": "stream",
     "text": [
      "Epoch 1/3\n",
      "137/137 [==============================] - 38s 275ms/step - batch: 68.0000 - size: 8.0000 - loss: 1.3505 - accuracy: 0.7016 - val_loss: 0.1663 - val_accuracy: 0.9485\n",
      "Epoch 2/3\n",
      "137/137 [==============================] - 37s 267ms/step - batch: 68.0000 - size: 8.0000 - loss: 0.4238 - accuracy: 0.9170 - val_loss: 0.0868 - val_accuracy: 0.9743\n",
      "Epoch 3/3\n",
      "137/137 [==============================] - 36s 260ms/step - batch: 68.0000 - size: 8.0000 - loss: 0.2853 - accuracy: 0.9453 - val_loss: 0.1154 - val_accuracy: 0.9706\n"
     ]
    }
   ],
   "source": [
    "# number of training and validation steps for training and validation\n",
    "nb_train_steps = int(np.ceil(len(train_df)/batch_size))\n",
    "nb_valid_steps = int(np.ceil(len(valid_df)/batch_size))\n",
    "# number of epochs \n",
    "nb_epochs=3\n",
    "\n",
    "hist = model.fit(train_data_gen,    \n",
    "                epochs=nb_epochs, \n",
    "                steps_per_epoch=nb_train_steps, \n",
    "                validation_data=valid_data_gen, \n",
    "                validation_steps=nb_valid_steps,\n",
    "                callbacks=my_callbacks)"
   ]
  },
  {
   "cell_type": "markdown",
   "metadata": {
    "id": "T7T0TjtKOe4s"
   },
   "source": [
    "### Graficos de error y accuracy"
   ]
  },
  {
   "cell_type": "code",
   "execution_count": 22,
   "metadata": {
    "colab": {
     "base_uri": "https://localhost:8080/",
     "height": 372
    },
    "executionInfo": {
     "elapsed": 386484,
     "status": "ok",
     "timestamp": 1605887353948,
     "user": {
      "displayName": "SEBASTIÁN MUÑOZ",
      "photoUrl": "",
      "userId": "08971805174609546934"
     },
     "user_tz": 180
    },
    "id": "83X3yCuJOk_Y",
    "outputId": "71d95c43-fd2c-4053-91d7-cf604550b4ae"
   },
   "outputs": [
    {
     "data": {
      "text/plain": [
       "<matplotlib.legend.Legend at 0x7f95602f0710>"
      ]
     },
     "execution_count": 22,
     "metadata": {
      "tags": []
     },
     "output_type": "execute_result"
    },
    {
     "data": {
      "image/png": "[encoded data removed]",
      "text/plain": [
       "<Figure size 1440x432 with 2 Axes>"
      ]
     },
     "metadata": {
      "needs_background": "light",
      "tags": []
     },
     "output_type": "display_data"
    }
   ],
   "source": [
    "from pylab import rcParams\n",
    "rcParams['figure.figsize'] = 20, 6\n",
    "plt.subplot(1,2,1)\n",
    "plt.plot(hist.history[\"accuracy\"],label=\"training accuracy\")\n",
    "plt.plot(hist.history[\"val_accuracy\"],\"b\",label=\"validation accuracy\")\n",
    "plt.grid()\n",
    "plt.legend()\n",
    "plt.subplot(1,2,2)\n",
    "plt.plot(hist.history[\"loss\"],label=\"training loss\")\n",
    "plt.plot(hist.history[\"val_loss\"],\"b\", label=\"validation loss\")\n",
    "plt.grid()\n",
    "plt.legend()"
   ]
  },
  {
   "cell_type": "markdown",
   "metadata": {
    "id": "nUCcxG8GOu8B"
   },
   "source": [
    "### CAM"
   ]
  },
  {
   "cell_type": "code",
   "execution_count": 23,
   "metadata": {
    "colab": {
     "base_uri": "https://localhost:8080/",
     "height": 1000,
     "output_embedded_package_id": "144MD_S3byrP7NQiSksNZt3RnlgqZA_SF"
    },
    "executionInfo": {
     "elapsed": 460190,
     "status": "ok",
     "timestamp": 1605887427658,
     "user": {
      "displayName": "SEBASTIÁN MUÑOZ",
      "photoUrl": "",
      "userId": "08971805174609546934"
     },
     "user_tz": 180
    },
    "id": "267o0vDTOud2",
    "outputId": "d8acf8e5-e2f1-46b1-eb02-09e4754d5fa0"
   },
   "outputs": [
    {
     "data": {
      "text/plain": [
       "Output hidden; open in https://colab.research.google.com to view."
      ]
     },
     "metadata": {},
     "output_type": "display_data"
    }
   ],
   "source": [
    "for mono in monos:\n",
    "  idx=mono\n",
    "  true_label=valid_df.iloc[idx]['label']\n",
    "  ####### VISUALIZACIÓN INPUT\n",
    "  sample_image = cv2.imread(valid_df.iloc[idx]['image'])\n",
    "  sample_image = cv2.cvtColor(sample_image, cv2.COLOR_BGR2RGB)\n",
    "  sample_image = cv2.resize(sample_image, (img_rows, img_cols))\n",
    "  sample_label = valid_df.iloc[idx][\"label\"]\n",
    "  sample_image_processed = np.expand_dims(sample_image, axis=0)\n",
    "  sample_image_processed = preprocess_input(sample_image_processed)\n",
    "  predicted_label=np.argmax(model.predict(sample_image_processed), axis=-1)[0]\n",
    "  rcParams[\"figure.figsize\"] = 18, 16\n",
    "  plt.subplot(3,4,1)\n",
    "  plt.title(\"Predicted label: \"+str(predicted_label)+\"\\n True label: \"+str(true_label))\n",
    "  plt.imshow(sample_image)# <- Image is ready to plot\n",
    "\n",
    "  ##### Visualización CAM\n",
    "  heatmaps=[]\n",
    "  kk=0\n",
    "  predicted_label=np.argmax(model.predict(sample_image_processed), axis=-1)[0] #repeated for clearness\n",
    "  for k in range(10):\n",
    "    predicted_output = model.output[:, k]\n",
    "    # choose the last conv layer in your model\n",
    "    last_conv_layer = model.get_layer('block5_conv4') #<....... you'll need to look what's the name of the last conv model.summary())\n",
    "    grads = K.gradients(predicted_output, last_conv_layer.output)[0] #predicted output=loss, last_conv_layer=input al gradiente, ¿qué calculará el gradiente entonces?\n",
    "    # take mean gradient per feature map\n",
    "    grads = K.mean(grads, axis=(0,1,2))\n",
    "    # Define a function that generates the values for the output and gradients\n",
    "    evaluation_function = K.function([model.input], [grads, last_conv_layer.output[0]]) #en eager executions disabled estamos trabajando con tensores continuamente, \n",
    "                                                                                        # si siguen el código se darán cuenta que evaluation function mantiene \n",
    "                                                                                        # las definiciones de variables\n",
    "    # get the values\n",
    "    grads_values, conv_ouput_values = evaluation_function([sample_image_processed]) #run evaluation function\n",
    "    # iterate over each feature map in yout conv output and multiply\n",
    "    # the gradient values with the conv output values. This gives an \n",
    "    # indication of \"how important a feature is\"\n",
    "    for i in range(conv_ouput_values.shape[-1]): # we have 512 features in our last conv layer\n",
    "        conv_ouput_values[:,:,i] *= grads_values[i]\n",
    "    # create a heatmap\n",
    "    heatmap = np.mean(conv_ouput_values, axis=-1)\n",
    "    # remove negative values\n",
    "    heatmap = np.maximum(heatmap, 0)\n",
    "    # re-scale\n",
    "    heatmap /= heatmap.max()\n",
    "    # get the heatmap for class activation map(CAM)\n",
    "    heatmap = cv2.resize(heatmap, (sample_image.shape[0], sample_image.shape[1]))\n",
    "    heatmap = heatmap *255\n",
    "    heatmap = np.clip(heatmap, 0, 255).astype(np.uint8)\n",
    "    heatmap = cv2.applyColorMap(heatmap, cv2.COLORMAP_JET)\n",
    "    plt.subplot(3,4,2+kk)\n",
    "    plt.title(\"CAM for class:\"+ str(k)+\"\\n output:\"+str(np.round(model.predict(sample_image_processed)[0,k],2)*100)+\"%\")\n",
    "    plt.imshow(heatmap)# <- Image is ready to plot\n",
    "    kk+=1\n",
    "    heatmaps.append(heatmap) # <- correct it\n",
    "  # get the superimposed image\n",
    "  super_imposed_image = heatmaps[predicted_label] * 0.5 + sample_image #<- correct it  \n",
    "  super_imposed_image = np.clip(super_imposed_image, 0,255).astype(np.uint8)\n",
    "  plt.subplot(3,4,12)\n",
    "  plt.title(\"Superimposed image\")\n",
    "  plt.imshow(super_imposed_image)# <- Image is ready to plot\n",
    "  plt.show()"
   ]
  },
  {
   "cell_type": "markdown",
   "metadata": {
    "id": "oj6_CMaI8MSx"
   },
   "source": [
    "### Featured Maps"
   ]
  },
  {
   "cell_type": "code",
   "execution_count": 24,
   "metadata": {
    "colab": {
     "base_uri": "https://localhost:8080/",
     "height": 1000,
     "output_embedded_package_id": "1wJOg1_tY3DZsvNTWsCwpYuoCN9pjuBph"
    },
    "executionInfo": {
     "elapsed": 487263,
     "status": "ok",
     "timestamp": 1605887454734,
     "user": {
      "displayName": "SEBASTIÁN MUÑOZ",
      "photoUrl": "",
      "userId": "08971805174609546934"
     },
     "user_tz": 180
    },
    "id": "QrrYFMTeUXbo",
    "outputId": "642871fb-b42f-4b77-9ca8-4cc58c5fba4d"
   },
   "outputs": [
    {
     "data": {
      "text/plain": [
       "Output hidden; open in https://colab.research.google.com to view."
      ]
     },
     "metadata": {},
     "output_type": "display_data"
    }
   ],
   "source": [
    "# get random image, SELECCIONE UNA A GUSTO\n",
    "# idx= np.random.randint(100) # <- random number\n",
    "idx=monos[4]\n",
    "true_label=valid_df.iloc[idx]['label']\n",
    "####### VISUALIZACIÓN INPUT\n",
    "sample_image = cv2.imread(valid_df.iloc[idx]['image'])\n",
    "sample_image = cv2.cvtColor(sample_image, cv2.COLOR_BGR2RGB)\n",
    "sample_image = cv2.resize(sample_image, (img_rows, img_cols))\n",
    "sample_label = valid_df.iloc[idx][\"label\"]\n",
    "sample_image_processed = np.expand_dims(sample_image, axis=0)\n",
    "sample_image_processed = preprocess_input(sample_image_processed)\n",
    "\n",
    "for index,layer in enumerate(model.layers):\n",
    "  if isinstance(layer,keras.layers.Conv2D):\n",
    "    fm_size=layer.output.shape[2] # largo de la imagen\n",
    "    fm_num=layer.output.shape[3] # cantidad de feature maps de la imagen\n",
    "    fm_largo=int(np.ceil(np.sqrt(fm_num)))\n",
    "    print(\"Capa \"+str(index+1))\n",
    "    vis_model=get_n_layers(index+1,model)\n",
    "    fet_maps_stacked=vis_model.predict(sample_image_processed)[0,:,:,:]\n",
    "    feature_maps=np.zeros((fm_size*8,fm_size*8))\n",
    "    k=0\n",
    "    for i in range(8):\n",
    "      for j in range(8):\n",
    "        feature_map = fet_maps_stacked[:,:,k]\n",
    "        feature_map -= feature_map.mean()\n",
    "        feature_map /= feature_map.std()\n",
    "        feature_map *=255\n",
    "        feature_map = np.clip(feature_map, 0, 255).astype(np.uint8)\n",
    "        feature_maps[fm_size*i:fm_size*(i+1),fm_size*j:fm_size*(j+1)]=feature_map\n",
    "        k+=1\n",
    "    plt.subplot(1,2,1)\n",
    "    plt.title(\"Predicted label: \"+str(np.argmax(model.predict(sample_image_processed), axis=-1)[0])+\"\\n True label: \"+str(true_label))\n",
    "    plt.imshow(sample_image)# <- Image is ready to plot\n",
    "    plt.subplot(1,2,2)\n",
    "    plt.title(\"Feature maps capa: \"+str(index+1))\n",
    "    plt.imshow(feature_maps)\n",
    "    plt.tight_layout()\n",
    "    plt.show()"
   ]
  },
  {
   "cell_type": "markdown",
   "metadata": {
    "id": "h8r_I1FGE0S1"
   },
   "source": [
    "## 3.d CNN con skip connections"
   ]
  },
  {
   "cell_type": "markdown",
   "metadata": {
    "id": "8rF52-AH57Ox"
   },
   "source": [
    "Otra manera de mejorar los resultados de las redes, sobretodo de las redes profundas donde se observa el problema de _vanishing gradient_ son las relativamente nuevas _skip connections_ o redes residuales. En vez de preocuparse de cómo manejar los pesos de la red para permitir que el gradiente no explote o no desaparezca, se permite al gradiente \"pasar\" sin ser modificado, agregando conecciones con pesos fijos entre capas de distintas profundidades, en la práctica permitiendo a la señar \"saltarse\" las capas intermedias. Esta idea ha permitido desarrollos como los de ResNet, llegando a profundidades de cientos de capas y aún logrando aprendizaje. \n",
    "\n",
    "Basandose en el código mostrado abajo, implemente una ResNet de su gusto. _Tip: Utilice BatchNormalization después de cada capa convolucional._\n",
    "\n",
    "**Obtenga un error de validación superior al 50%**. _No tenga miedo de subir la profundidad, pero sí de la cantidad de hiperparámetros a entrenar, checkear model.summary()_\n",
    "\n",
    "**Repita los pasos II) a IV) de las secciones anteriores. Comente**"
   ]
  },
  {
   "cell_type": "code",
   "execution_count": 25,
   "metadata": {
    "colab": {
     "base_uri": "https://localhost:8080/"
    },
    "executionInfo": {
     "elapsed": 487668,
     "status": "ok",
     "timestamp": 1605887455149,
     "user": {
      "displayName": "SEBASTIÁN MUÑOZ",
      "photoUrl": "",
      "userId": "08971805174609546934"
     },
     "user_tz": 180
    },
    "id": "gL6tboCPFsXc",
    "outputId": "d2882d80-ef09-4c7c-9730-18a586851c21"
   },
   "outputs": [
    {
     "name": "stdout",
     "output_type": "stream",
     "text": [
      "Model: \"functional_1\"\n",
      "__________________________________________________________________________________________________\n",
      "Layer (type)                    Output Shape         Param #     Connected to                     \n",
      "==================================================================================================\n",
      "input_1 (InputLayer)            [(None, 224, 224, 3) 0                                            \n",
      "__________________________________________________________________________________________________\n",
      "conv2d (Conv2D)                 (None, 224, 224, 64) 1792        input_1[0][0]                    \n",
      "__________________________________________________________________________________________________\n",
      "batch_normalization (BatchNorma (None, 224, 224, 64) 256         conv2d[0][0]                     \n",
      "__________________________________________________________________________________________________\n",
      "conv2d_1 (Conv2D)               (None, 224, 224, 64) 36928       batch_normalization[0][0]        \n",
      "__________________________________________________________________________________________________\n",
      "batch_normalization_1 (BatchNor (None, 224, 224, 64) 256         conv2d_1[0][0]                   \n",
      "__________________________________________________________________________________________________\n",
      "concatenate (Concatenate)       (None, 224, 224, 67) 0           input_1[0][0]                    \n",
      "                                                                 batch_normalization_1[0][0]      \n",
      "__________________________________________________________________________________________________\n",
      "max_pooling2d (MaxPooling2D)    (None, 112, 112, 67) 0           concatenate[0][0]                \n",
      "__________________________________________________________________________________________________\n",
      "conv2d_2 (Conv2D)               (None, 112, 112, 64) 38656       max_pooling2d[0][0]              \n",
      "__________________________________________________________________________________________________\n",
      "batch_normalization_2 (BatchNor (None, 112, 112, 64) 256         conv2d_2[0][0]                   \n",
      "__________________________________________________________________________________________________\n",
      "conv2d_3 (Conv2D)               (None, 112, 112, 64) 36928       batch_normalization_2[0][0]      \n",
      "__________________________________________________________________________________________________\n",
      "batch_normalization_3 (BatchNor (None, 112, 112, 64) 256         conv2d_3[0][0]                   \n",
      "__________________________________________________________________________________________________\n",
      "concatenate_1 (Concatenate)     (None, 112, 112, 131 0           max_pooling2d[0][0]              \n",
      "                                                                 batch_normalization_3[0][0]      \n",
      "__________________________________________________________________________________________________\n",
      "max_pooling2d_1 (MaxPooling2D)  (None, 56, 56, 131)  0           concatenate_1[0][0]              \n",
      "__________________________________________________________________________________________________\n",
      "conv2d_4 (Conv2D)               (None, 56, 56, 64)   75520       max_pooling2d_1[0][0]            \n",
      "__________________________________________________________________________________________________\n",
      "batch_normalization_4 (BatchNor (None, 56, 56, 64)   256         conv2d_4[0][0]                   \n",
      "__________________________________________________________________________________________________\n",
      "conv2d_5 (Conv2D)               (None, 56, 56, 64)   36928       batch_normalization_4[0][0]      \n",
      "__________________________________________________________________________________________________\n",
      "batch_normalization_5 (BatchNor (None, 56, 56, 64)   256         conv2d_5[0][0]                   \n",
      "__________________________________________________________________________________________________\n",
      "concatenate_2 (Concatenate)     (None, 56, 56, 195)  0           max_pooling2d_1[0][0]            \n",
      "                                                                 batch_normalization_5[0][0]      \n",
      "__________________________________________________________________________________________________\n",
      "max_pooling2d_2 (MaxPooling2D)  (None, 28, 28, 195)  0           concatenate_2[0][0]              \n",
      "__________________________________________________________________________________________________\n",
      "conv2d_6 (Conv2D)               (None, 28, 28, 64)   112384      max_pooling2d_2[0][0]            \n",
      "__________________________________________________________________________________________________\n",
      "batch_normalization_6 (BatchNor (None, 28, 28, 64)   256         conv2d_6[0][0]                   \n",
      "__________________________________________________________________________________________________\n",
      "conv2d_7 (Conv2D)               (None, 28, 28, 64)   36928       batch_normalization_6[0][0]      \n",
      "__________________________________________________________________________________________________\n",
      "batch_normalization_7 (BatchNor (None, 28, 28, 64)   256         conv2d_7[0][0]                   \n",
      "__________________________________________________________________________________________________\n",
      "concatenate_3 (Concatenate)     (None, 28, 28, 259)  0           max_pooling2d_2[0][0]            \n",
      "                                                                 batch_normalization_7[0][0]      \n",
      "__________________________________________________________________________________________________\n",
      "max_pooling2d_3 (MaxPooling2D)  (None, 14, 14, 259)  0           concatenate_3[0][0]              \n",
      "__________________________________________________________________________________________________\n",
      "conv2d_8 (Conv2D)               (None, 14, 14, 64)   149248      max_pooling2d_3[0][0]            \n",
      "__________________________________________________________________________________________________\n",
      "batch_normalization_8 (BatchNor (None, 14, 14, 64)   256         conv2d_8[0][0]                   \n",
      "__________________________________________________________________________________________________\n",
      "conv2d_9 (Conv2D)               (None, 14, 14, 64)   36928       batch_normalization_8[0][0]      \n",
      "__________________________________________________________________________________________________\n",
      "batch_normalization_9 (BatchNor (None, 14, 14, 64)   256         conv2d_9[0][0]                   \n",
      "__________________________________________________________________________________________________\n",
      "concatenate_4 (Concatenate)     (None, 14, 14, 323)  0           max_pooling2d_3[0][0]            \n",
      "                                                                 batch_normalization_9[0][0]      \n",
      "__________________________________________________________________________________________________\n",
      "max_pooling2d_4 (MaxPooling2D)  (None, 7, 7, 323)    0           concatenate_4[0][0]              \n",
      "__________________________________________________________________________________________________\n",
      "conv2d_10 (Conv2D)              (None, 7, 7, 64)     186112      max_pooling2d_4[0][0]            \n",
      "__________________________________________________________________________________________________\n",
      "batch_normalization_10 (BatchNo (None, 7, 7, 64)     256         conv2d_10[0][0]                  \n",
      "__________________________________________________________________________________________________\n",
      "conv2d_11 (Conv2D)              (None, 7, 7, 64)     36928       batch_normalization_10[0][0]     \n",
      "__________________________________________________________________________________________________\n",
      "batch_normalization_11 (BatchNo (None, 7, 7, 64)     256         conv2d_11[0][0]                  \n",
      "__________________________________________________________________________________________________\n",
      "concatenate_5 (Concatenate)     (None, 7, 7, 387)    0           max_pooling2d_4[0][0]            \n",
      "                                                                 batch_normalization_11[0][0]     \n",
      "__________________________________________________________________________________________________\n",
      "flatten (Flatten)               (None, 18963)        0           concatenate_5[0][0]              \n",
      "__________________________________________________________________________________________________\n",
      "dense (Dense)                   (None, 320)          6068480     flatten[0][0]                    \n",
      "__________________________________________________________________________________________________\n",
      "batch_normalization_12 (BatchNo (None, 320)          1280        dense[0][0]                      \n",
      "__________________________________________________________________________________________________\n",
      "dense_1 (Dense)                 (None, 10)           3210        batch_normalization_12[0][0]     \n",
      "==================================================================================================\n",
      "Total params: 6,861,322\n",
      "Trainable params: 6,859,146\n",
      "Non-trainable params: 2,176\n",
      "__________________________________________________________________________________________________\n"
     ]
    }
   ],
   "source": [
    "from keras.models import Sequential\n",
    "from keras.layers import Dense, Flatten\n",
    "from keras.layers import Conv2D, MaxPooling2D, Input, concatenate\n",
    "from keras.optimizers import RMSprop\n",
    "from keras.callbacks import History, EarlyStopping\n",
    "from keras.layers.normalization import BatchNormalization\n",
    "tf.keras.backend.clear_session()\n",
    "tf.compat.v1.disable_eager_execution()\n",
    "\n",
    "x = Input(shape=(img_rows, img_cols, img_channels))\n",
    "\n",
    "y = Conv2D(64, (3,3),padding='same',activation='relu')(x)\n",
    "y = BatchNormalization()(y)\n",
    "y = Conv2D(64, (3,3),padding='same',activation='relu')(y)\n",
    "y = BatchNormalization()(y)\n",
    "z = concatenate([x, y])\n",
    "\n",
    "for i in range(5):\n",
    "  z = MaxPooling2D(pool_size=(2, 2))(z)\n",
    "\n",
    "  y = Conv2D(64, (3,3),padding='same',activation='relu')(z)\n",
    "  y = BatchNormalization()(y)\n",
    "  y = Conv2D(64, (3,3),padding='same',activation='relu')(y)\n",
    "  y = BatchNormalization()(y)\n",
    "  z = concatenate([z, y])\n",
    "\n",
    "z = Flatten()(z)\n",
    "z = Dense(256 + 64, activation='relu')(z)\n",
    "z = BatchNormalization()(z)\n",
    "out = Dense(10, activation='softmax')(z)\n",
    "\n",
    "res_mod = tf.keras.models.Model(x,out)\n",
    "\n",
    "my_callbacks = [History(), # Returns validation and training loss\n",
    "    EarlyStopping(patience=2,monitor=\"val_accuracy\", #Stops training when the validation loss doesnt get better in n°patience consecutive epochs,keep it at 100 it's only to show u\n",
    "                                     restore_best_weights=True)]\n",
    "\n",
    "\n",
    "optimizer = RMSprop(0.001)\n",
    "res_mod.compile(loss='categorical_crossentropy', optimizer=optimizer, metrics=['accuracy'])\n",
    "# summary\n",
    "res_mod.summary()"
   ]
  },
  {
   "cell_type": "markdown",
   "metadata": {
    "id": "EFMMYtLRMRX2"
   },
   "source": [
    "### Entrenamiento"
   ]
  },
  {
   "cell_type": "code",
   "execution_count": 26,
   "metadata": {
    "colab": {
     "base_uri": "https://localhost:8080/"
    },
    "executionInfo": {
     "elapsed": 687167,
     "status": "ok",
     "timestamp": 1605887654658,
     "user": {
      "displayName": "SEBASTIÁN MUÑOZ",
      "photoUrl": "",
      "userId": "08971805174609546934"
     },
     "user_tz": 180
    },
    "id": "9fJ8cDPrGA9N",
    "outputId": "fdf252de-e0a7-4983-afb2-58d992021669"
   },
   "outputs": [
    {
     "name": "stdout",
     "output_type": "stream",
     "text": [
      "Epoch 1/5\n",
      "137/137 [==============================] - 39s 284ms/step - batch: 68.0000 - size: 8.0000 - loss: 1.7580 - accuracy: 0.4279 - val_loss: 3.8395 - val_accuracy: 0.2316\n",
      "Epoch 2/5\n",
      "137/137 [==============================] - 40s 290ms/step - batch: 68.0000 - size: 8.0000 - loss: 1.3442 - accuracy: 0.5557 - val_loss: 1.3171 - val_accuracy: 0.5294\n",
      "Epoch 3/5\n",
      "137/137 [==============================] - 37s 272ms/step - batch: 68.0000 - size: 8.0000 - loss: 1.0700 - accuracy: 0.6651 - val_loss: 1.2904 - val_accuracy: 0.5809\n",
      "Epoch 4/5\n",
      "137/137 [==============================] - 39s 281ms/step - batch: 68.0000 - size: 8.0000 - loss: 0.9513 - accuracy: 0.7099 - val_loss: 1.3866 - val_accuracy: 0.5588\n",
      "Epoch 5/5\n",
      "137/137 [==============================] - 39s 285ms/step - batch: 68.0000 - size: 8.0000 - loss: 0.7285 - accuracy: 0.7929 - val_loss: 1.2246 - val_accuracy: 0.6066\n"
     ]
    }
   ],
   "source": [
    "# number of training and validation steps for training and validation\n",
    "nb_train_steps = int(np.ceil(len(train_df)/batch_size))\n",
    "nb_valid_steps = int(np.ceil(len(valid_df)/batch_size))\n",
    "# number of epochs \n",
    "nb_epochs=5 # si no obtuvo el resultado deseado en 10 epochs \n",
    "\n",
    "hist = res_mod.fit(train_data_gen,     \n",
    "                    epochs=nb_epochs, \n",
    "                    steps_per_epoch=nb_train_steps, \n",
    "                    validation_data=valid_data_gen, \n",
    "                    validation_steps=nb_valid_steps,\n",
    "                    callbacks=my_callbacks)"
   ]
  },
  {
   "cell_type": "markdown",
   "metadata": {
    "id": "vGJTlBgw9Y7l"
   },
   "source": [
    "### Gráficos de error y acuraccy"
   ]
  },
  {
   "cell_type": "code",
   "execution_count": 27,
   "metadata": {
    "colab": {
     "base_uri": "https://localhost:8080/",
     "height": 373
    },
    "executionInfo": {
     "elapsed": 687949,
     "status": "ok",
     "timestamp": 1605887655450,
     "user": {
      "displayName": "SEBASTIÁN MUÑOZ",
      "photoUrl": "",
      "userId": "08971805174609546934"
     },
     "user_tz": 180
    },
    "id": "gzBot6VC9YDy",
    "outputId": "319338f5-ac5e-4330-f503-4acbae8b026f"
   },
   "outputs": [
    {
     "data": {
      "text/plain": [
       "<matplotlib.legend.Legend at 0x7f97dc073ba8>"
      ]
     },
     "execution_count": 27,
     "metadata": {
      "tags": []
     },
     "output_type": "execute_result"
    },
    {
     "data": {
      "image/png": "[encoded data removed]",
      "text/plain": [
       "<Figure size 1440x432 with 2 Axes>"
      ]
     },
     "metadata": {
      "needs_background": "light",
      "tags": []
     },
     "output_type": "display_data"
    }
   ],
   "source": [
    "from pylab import rcParams\n",
    "rcParams['figure.figsize'] = 20, 6\n",
    "plt.subplot(1,2,1)\n",
    "plt.plot(hist.history[\"accuracy\"],label=\"training accuracy\")\n",
    "plt.plot(hist.history[\"val_accuracy\"],\"b\",label=\"validation accuracy\")\n",
    "plt.grid()\n",
    "plt.legend()\n",
    "plt.subplot(1,2,2)\n",
    "plt.plot(hist.history[\"loss\"],label=\"training loss\")\n",
    "plt.plot(hist.history[\"val_loss\"],\"b\", label=\"validation loss\")\n",
    "plt.grid()\n",
    "plt.legend()"
   ]
  },
  {
   "cell_type": "markdown",
   "metadata": {
    "id": "OnxFQxhGdExr"
   },
   "source": [
    "###Comentario\n",
    "\n",
    "Los errores aumentan considerablemente al no usar modelos pre entrenados. Tambien queda la duda si usando más epochs ek validation loss podría mejorar sin sobreajustar, lo cual parece poco factible.\n",
    "\n",
    "Una de las  causas del bajo accuracy se puede deber a la baja cantidad de imagenes usadas para clasificar la red desde 0.\n",
    "Otra causa puede ser la baja cantidad de epochs, considerando que todos los parametros de la red comienzan inicializados de forma uniforme por defecto."
   ]
  },
  {
   "cell_type": "markdown",
   "metadata": {
    "id": "Mc4-7BD5qNy4"
   },
   "source": [
    "### CAM"
   ]
  },
  {
   "cell_type": "code",
   "execution_count": 28,
   "metadata": {
    "colab": {
     "base_uri": "https://localhost:8080/",
     "height": 1000,
     "output_embedded_package_id": "1yomPFrl6S_3k9gMaOioSM58mQwnjb83K"
    },
    "executionInfo": {
     "elapsed": 859031,
     "status": "ok",
     "timestamp": 1605887826544,
     "user": {
      "displayName": "SEBASTIÁN MUÑOZ",
      "photoUrl": "",
      "userId": "08971805174609546934"
     },
     "user_tz": 180
    },
    "id": "DrVr7CDQMPbg",
    "outputId": "5f5c8e53-b0d4-4b95-e4c9-fede2f716bdc"
   },
   "outputs": [
    {
     "data": {
      "text/plain": [
       "Output hidden; open in https://colab.research.google.com to view."
      ]
     },
     "metadata": {},
     "output_type": "display_data"
    }
   ],
   "source": [
    "for mono in monos:\n",
    "  idx=mono\n",
    "  true_label=valid_df.iloc[idx]['label']\n",
    "  ####### VISUALIZACIÓN INPUT\n",
    "  sample_image = cv2.imread(valid_df.iloc[idx]['image'])\n",
    "  sample_image = cv2.cvtColor(sample_image, cv2.COLOR_BGR2RGB)\n",
    "  sample_image = cv2.resize(sample_image, (img_rows, img_cols))\n",
    "  sample_label = valid_df.iloc[idx][\"label\"]\n",
    "  sample_image_processed = np.expand_dims(sample_image, axis=0)\n",
    "  sample_image_processed = preprocess_input(sample_image_processed)\n",
    "  predicted_label=np.argmax(res_mod.predict(sample_image_processed), axis=-1)[0]\n",
    "  rcParams[\"figure.figsize\"] = 18, 16\n",
    "  plt.subplot(3,4,1)\n",
    "  plt.title(\"Predicted label: \"+str(predicted_label)+\"\\n True label: \"+str(true_label))\n",
    "  plt.imshow(sample_image)# <- Image is ready to plot\n",
    "\n",
    "  ##### Visualización CAM\n",
    "  heatmaps=[]\n",
    "  kk=0\n",
    "  predicted_label=np.argmax(res_mod.predict(sample_image_processed), axis=-1)[0] #repeated for clearness\n",
    "  for k in range(10):\n",
    "    predicted_output = res_mod.output[:, k]\n",
    "    # choose the last conv layer in your model\n",
    "    last_conv_layer = res_mod.get_layer('conv2d_11') #<....... you'll need to look what's the name of the last conv model.summary())\n",
    "    grads = K.gradients(predicted_output, last_conv_layer.output)[0] #predicted output=loss, last_conv_layer=input al gradiente, ¿qué calculará el gradiente entonces?\n",
    "    # take mean gradient per feature map\n",
    "    grads = K.mean(grads, axis=(0,1,2))\n",
    "    # Define a function that generates the values for the output and gradients\n",
    "    evaluation_function = K.function([res_mod.input], [grads, last_conv_layer.output[0]]) #en eager executions disabled estamos trabajando con tensores continuamente, \n",
    "                                                                                        # si siguen el código se darán cuenta que evaluation function mantiene \n",
    "                                                                                        # las definiciones de variables\n",
    "    # get the values\n",
    "    grads_values, conv_ouput_values = evaluation_function([sample_image_processed]) #run evaluation function\n",
    "    # iterate over each feature map in yout conv output and multiply\n",
    "    # the gradient values with the conv output values. This gives an \n",
    "    # indication of \"how important a feature is\"\n",
    "    for i in range(conv_ouput_values.shape[-1]): # we have 512 features in our last conv layer\n",
    "        conv_ouput_values[:,:,i] *= grads_values[i]\n",
    "    # create a heatmap\n",
    "    heatmap = np.mean(conv_ouput_values, axis=-1)\n",
    "    # remove negative values\n",
    "    heatmap = np.maximum(heatmap, 0)\n",
    "    # re-scale\n",
    "    heatmap /= heatmap.max()\n",
    "    # get the heatmap for class activation map(CAM)\n",
    "    heatmap = cv2.resize(heatmap, (sample_image.shape[0], sample_image.shape[1]))\n",
    "    heatmap = heatmap *255\n",
    "    heatmap = np.clip(heatmap, 0, 255).astype(np.uint8)\n",
    "    heatmap = cv2.applyColorMap(heatmap, cv2.COLORMAP_JET)\n",
    "    plt.subplot(3,4,2+kk)\n",
    "    plt.title(\"CAM for class:\"+ str(k)+\"\\n output:\"+str(np.round(res_mod.predict(sample_image_processed)[0,k],2)*100)+\"%\")\n",
    "    plt.imshow(heatmap)# <- Image is ready to plot\n",
    "    kk+=1\n",
    "    heatmaps.append(heatmap) # <- correct it\n",
    "  # get the superimposed image\n",
    "  super_imposed_image = heatmaps[predicted_label] * 0.5 + sample_image #<- correct it  \n",
    "  super_imposed_image = np.clip(super_imposed_image, 0,255).astype(np.uint8)\n",
    "  plt.subplot(3,4,12)\n",
    "  plt.title(\"Superimposed image\")\n",
    "  plt.imshow(super_imposed_image)# <- Image is ready to plot\n",
    "  plt.show()"
   ]
  },
  {
   "cell_type": "markdown",
   "metadata": {
    "id": "UmBDdrTbeQcG"
   },
   "source": [
    "###Comentarios\n",
    "Vemos claramente que la red aun no puede separar bien la imagen de los monos del entorno que los rodea (manchones azules más aleatorios, no enfocados en la cara). Por esta razón, no se ve una estrategia clara de reconocimiento, y varios CAM para disitntas clases consideran gran parte de la imagen (mono + background) para tomar una desición, lo cual claramente, dificulta el trabajo de la red densa, la cual encuentra patrones de los monos y el entorno.\n",
    "\n",
    "Tambien se ve el caso contrario, donde se skipeo el último bloque convolucional, y la red considera la totalidad de la imagen para reconocer patrones.\n",
    "\n",
    "Los manchones verdes en los cam indican que la red no está 100% segura de considerar o no considerar esos pixeles como importanes o relevantes."
   ]
  },
  {
   "cell_type": "markdown",
   "metadata": {
    "id": "f3TOJAv2W198"
   },
   "source": [
    "### Featured Maps"
   ]
  },
  {
   "cell_type": "code",
   "execution_count": 29,
   "metadata": {
    "executionInfo": {
     "elapsed": 859030,
     "status": "ok",
     "timestamp": 1605887826546,
     "user": {
      "displayName": "SEBASTIÁN MUÑOZ",
      "photoUrl": "",
      "userId": "08971805174609546934"
     },
     "user_tz": 180
    },
    "id": "2cqzmXz_0rVJ"
   },
   "outputs": [],
   "source": [
    "def get_n_layers_res(max_layer, original_model):\n",
    "  max_layer-=1\n",
    "  Input = original_model.get_layer(index=0).output\n",
    "  Output = original_model.get_layer(index=max_layer).output\n",
    "  new_mod = tf.keras.models.Model(Input,Output)\n",
    "  # new_mod.summary()\n",
    "  return new_mod"
   ]
  },
  {
   "cell_type": "code",
   "execution_count": 30,
   "metadata": {
    "colab": {
     "base_uri": "https://localhost:8080/",
     "height": 1000,
     "output_embedded_package_id": "1pgrNN7XKFj5YIIDWjT7r5KX6v9_E5u6I"
    },
    "executionInfo": {
     "elapsed": 894482,
     "status": "ok",
     "timestamp": 1605887862008,
     "user": {
      "displayName": "SEBASTIÁN MUÑOZ",
      "photoUrl": "",
      "userId": "08971805174609546934"
     },
     "user_tz": 180
    },
    "id": "yu-1vJNKW5FD",
    "outputId": "e27dd3d5-408d-42c4-e360-f59e5c3cce54"
   },
   "outputs": [
    {
     "data": {
      "text/plain": [
       "Output hidden; open in https://colab.research.google.com to view."
      ]
     },
     "metadata": {},
     "output_type": "display_data"
    }
   ],
   "source": [
    "import keras\n",
    "# get random image, SELECCIONE UNA A GUSTO\n",
    "# idx= np.random.randint(100) # <- random number\n",
    "idx=monos[4]\n",
    "true_label=valid_df.iloc[idx]['label']\n",
    "####### VISUALIZACIÓN INPUT\n",
    "sample_image = cv2.imread(valid_df.iloc[idx]['image'])\n",
    "sample_image = cv2.cvtColor(sample_image, cv2.COLOR_BGR2RGB)\n",
    "sample_image = cv2.resize(sample_image, (img_rows, img_cols))\n",
    "sample_label = valid_df.iloc[idx][\"label\"]\n",
    "sample_image_processed = np.expand_dims(sample_image, axis=0)\n",
    "sample_image_processed = preprocess_input(sample_image_processed)\n",
    "\n",
    "for index,layer in enumerate(res_mod.layers):\n",
    "  if isinstance(layer,keras.layers.Conv2D):\n",
    "    fm_size=layer.output.shape[2] # largo de la imagen\n",
    "    fm_num=layer.output.shape[3] # cantidad de feature maps de la imagen\n",
    "    fm_largo=int(np.ceil(np.sqrt(fm_num)))\n",
    "    print(\"Capa \"+str(index+1))\n",
    "    vis_model=get_n_layers_res(index+1,res_mod)\n",
    "    fet_maps_stacked=vis_model.predict(sample_image_processed)[0,:,:,:]\n",
    "    feature_maps=np.zeros((fm_size*8,fm_size*8))\n",
    "    k=0\n",
    "    for i in range(8):\n",
    "      for j in range(8):\n",
    "        feature_map = fet_maps_stacked[:,:,k]\n",
    "        feature_map -= feature_map.mean()\n",
    "        feature_map /= feature_map.std()\n",
    "        feature_map *=255\n",
    "        feature_map = np.clip(feature_map, 0, 255).astype(np.uint8)\n",
    "        feature_maps[fm_size*i:fm_size*(i+1),fm_size*j:fm_size*(j+1)]=feature_map\n",
    "        k+=1\n",
    "    plt.subplot(1,2,1)\n",
    "    plt.title(\"Predicted label: \"+str(np.argmax(res_mod.predict(sample_image_processed), axis=-1)[0])+\"\\n True label: \"+str(true_label))\n",
    "    plt.imshow(sample_image)# <- Image is ready to plot\n",
    "    plt.subplot(1,2,2)\n",
    "    plt.title(\"Feature maps capa: \"+str(index+1))\n",
    "    plt.imshow(feature_maps)\n",
    "    plt.tight_layout()\n",
    "    plt.show()"
   ]
  },
  {
   "cell_type": "markdown",
   "metadata": {
    "id": "vMFSSJlpfWJt"
   },
   "source": [
    "###Comentario\n",
    "\n",
    "Los feature maps de la última capa, a diferencia de los modelos VGG16/19, no logran separar de buena manera los monos del escenario. Esto se ve reflejado en que se consideran areas más grandes del feature map para buscar patrones."
   ]
  }
 ],
 "metadata": {
  "accelerator": "GPU",
  "colab": {
   "collapsed_sections": [],
   "name": "Tarea 1 Parte 3.ipynb",
   "provenance": [
    {
     "file_id": "1hMftNV9noCFCMjzHhiRZOZEMv9HRuN6j",
     "timestamp": 1605726404866
    }
   ],
   "toc_visible": true
  },
  "kernelspec": {
   "display_name": "Python 3",
   "language": "python",
   "name": "python3"
  },
  "language_info": {
   "codemirror_mode": {
    "name": "ipython",
    "version": 3
   },
   "file_extension": ".py",
   "mimetype": "text/x-python",
   "name": "python",
   "nbconvert_exporter": "python",
   "pygments_lexer": "ipython3",
   "version": "3.8.3"
  }
 },
 "nbformat": 4,
 "nbformat_minor": 1
}
